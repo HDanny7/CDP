{
 "cells": [
  {
   "cell_type": "code",
   "execution_count": 45,
   "metadata": {},
   "outputs": [],
   "source": [
    "# Importacion de las librerias que se usaran.\n",
    "import pandas as pd\n",
    "import matplotlib.pyplot as plt\n",
    "import numpy as np\n",
    "import seaborn as sns\n",
    "from sklearn.pipeline import Pipeline\n",
    "from sklearn.preprocessing import StandardScaler, PolynomialFeatures\n",
    "from sklearn.linear_model import LinearRegression, Ridge\n",
    "from sklearn.metrics import mean_squared_error, r2_score\n",
    "from sklearn.model_selection import cross_val_score, train_test_split\n",
    "%matplotlib inline"
   ]
  },
  {
   "cell_type": "markdown",
   "metadata": {},
   "source": [
    "# Modulo 1. Cargar los datos"
   ]
  },
  {
   "cell_type": "code",
   "execution_count": 46,
   "metadata": {},
   "outputs": [],
   "source": [
    "url = 'https://cf-courses-data.s3.us.cloud-object-storage.appdomain.cloud/IBMDeveloperSkillsNetwork-DA0101EN-SkillsNetwork/labs/FinalModule_Coursera/data/kc_house_data_NaN.csv'\n",
    "df = pd.read_csv(url, header= None)"
   ]
  },
  {
   "cell_type": "code",
   "execution_count": 47,
   "metadata": {},
   "outputs": [
    {
     "data": {
      "text/html": [
       "<div>\n",
       "<style scoped>\n",
       "    .dataframe tbody tr th:only-of-type {\n",
       "        vertical-align: middle;\n",
       "    }\n",
       "\n",
       "    .dataframe tbody tr th {\n",
       "        vertical-align: top;\n",
       "    }\n",
       "\n",
       "    .dataframe thead th {\n",
       "        text-align: right;\n",
       "    }\n",
       "</style>\n",
       "<table border=\"1\" class=\"dataframe\">\n",
       "  <thead>\n",
       "    <tr style=\"text-align: right;\">\n",
       "      <th></th>\n",
       "      <th>0</th>\n",
       "      <th>1</th>\n",
       "      <th>2</th>\n",
       "      <th>3</th>\n",
       "      <th>4</th>\n",
       "      <th>5</th>\n",
       "      <th>6</th>\n",
       "      <th>7</th>\n",
       "      <th>8</th>\n",
       "      <th>9</th>\n",
       "      <th>...</th>\n",
       "      <th>12</th>\n",
       "      <th>13</th>\n",
       "      <th>14</th>\n",
       "      <th>15</th>\n",
       "      <th>16</th>\n",
       "      <th>17</th>\n",
       "      <th>18</th>\n",
       "      <th>19</th>\n",
       "      <th>20</th>\n",
       "      <th>21</th>\n",
       "    </tr>\n",
       "  </thead>\n",
       "  <tbody>\n",
       "    <tr>\n",
       "      <th>0</th>\n",
       "      <td>NaN</td>\n",
       "      <td>id</td>\n",
       "      <td>date</td>\n",
       "      <td>price</td>\n",
       "      <td>bedrooms</td>\n",
       "      <td>bathrooms</td>\n",
       "      <td>sqft_living</td>\n",
       "      <td>sqft_lot</td>\n",
       "      <td>floors</td>\n",
       "      <td>waterfront</td>\n",
       "      <td>...</td>\n",
       "      <td>grade</td>\n",
       "      <td>sqft_above</td>\n",
       "      <td>sqft_basement</td>\n",
       "      <td>yr_built</td>\n",
       "      <td>yr_renovated</td>\n",
       "      <td>zipcode</td>\n",
       "      <td>lat</td>\n",
       "      <td>long</td>\n",
       "      <td>sqft_living15</td>\n",
       "      <td>sqft_lot15</td>\n",
       "    </tr>\n",
       "    <tr>\n",
       "      <th>1</th>\n",
       "      <td>0.0</td>\n",
       "      <td>7129300520</td>\n",
       "      <td>20141013T000000</td>\n",
       "      <td>221900.0</td>\n",
       "      <td>3.0</td>\n",
       "      <td>1.0</td>\n",
       "      <td>1180</td>\n",
       "      <td>5650</td>\n",
       "      <td>1.0</td>\n",
       "      <td>0</td>\n",
       "      <td>...</td>\n",
       "      <td>7</td>\n",
       "      <td>1180</td>\n",
       "      <td>0</td>\n",
       "      <td>1955</td>\n",
       "      <td>0</td>\n",
       "      <td>98178</td>\n",
       "      <td>47.5112</td>\n",
       "      <td>-122.257</td>\n",
       "      <td>1340</td>\n",
       "      <td>5650</td>\n",
       "    </tr>\n",
       "    <tr>\n",
       "      <th>2</th>\n",
       "      <td>1.0</td>\n",
       "      <td>6414100192</td>\n",
       "      <td>20141209T000000</td>\n",
       "      <td>538000.0</td>\n",
       "      <td>3.0</td>\n",
       "      <td>2.25</td>\n",
       "      <td>2570</td>\n",
       "      <td>7242</td>\n",
       "      <td>2.0</td>\n",
       "      <td>0</td>\n",
       "      <td>...</td>\n",
       "      <td>7</td>\n",
       "      <td>2170</td>\n",
       "      <td>400</td>\n",
       "      <td>1951</td>\n",
       "      <td>1991</td>\n",
       "      <td>98125</td>\n",
       "      <td>47.721000000000004</td>\n",
       "      <td>-122.319</td>\n",
       "      <td>1690</td>\n",
       "      <td>7639</td>\n",
       "    </tr>\n",
       "    <tr>\n",
       "      <th>3</th>\n",
       "      <td>2.0</td>\n",
       "      <td>5631500400</td>\n",
       "      <td>20150225T000000</td>\n",
       "      <td>180000.0</td>\n",
       "      <td>2.0</td>\n",
       "      <td>1.0</td>\n",
       "      <td>770</td>\n",
       "      <td>10000</td>\n",
       "      <td>1.0</td>\n",
       "      <td>0</td>\n",
       "      <td>...</td>\n",
       "      <td>6</td>\n",
       "      <td>770</td>\n",
       "      <td>0</td>\n",
       "      <td>1933</td>\n",
       "      <td>0</td>\n",
       "      <td>98028</td>\n",
       "      <td>47.7379</td>\n",
       "      <td>-122.23299999999999</td>\n",
       "      <td>2720</td>\n",
       "      <td>8062</td>\n",
       "    </tr>\n",
       "    <tr>\n",
       "      <th>4</th>\n",
       "      <td>3.0</td>\n",
       "      <td>2487200875</td>\n",
       "      <td>20141209T000000</td>\n",
       "      <td>604000.0</td>\n",
       "      <td>4.0</td>\n",
       "      <td>3.0</td>\n",
       "      <td>1960</td>\n",
       "      <td>5000</td>\n",
       "      <td>1.0</td>\n",
       "      <td>0</td>\n",
       "      <td>...</td>\n",
       "      <td>7</td>\n",
       "      <td>1050</td>\n",
       "      <td>910</td>\n",
       "      <td>1965</td>\n",
       "      <td>0</td>\n",
       "      <td>98136</td>\n",
       "      <td>47.5208</td>\n",
       "      <td>-122.39299999999999</td>\n",
       "      <td>1360</td>\n",
       "      <td>5000</td>\n",
       "    </tr>\n",
       "  </tbody>\n",
       "</table>\n",
       "<p>5 rows × 22 columns</p>\n",
       "</div>"
      ],
      "text/plain": [
       "    0           1                2         3         4          5   \\\n",
       "0  NaN          id             date     price  bedrooms  bathrooms   \n",
       "1  0.0  7129300520  20141013T000000  221900.0       3.0        1.0   \n",
       "2  1.0  6414100192  20141209T000000  538000.0       3.0       2.25   \n",
       "3  2.0  5631500400  20150225T000000  180000.0       2.0        1.0   \n",
       "4  3.0  2487200875  20141209T000000  604000.0       4.0        3.0   \n",
       "\n",
       "            6         7       8           9   ...     12          13  \\\n",
       "0  sqft_living  sqft_lot  floors  waterfront  ...  grade  sqft_above   \n",
       "1         1180      5650     1.0           0  ...      7        1180   \n",
       "2         2570      7242     2.0           0  ...      7        2170   \n",
       "3          770     10000     1.0           0  ...      6         770   \n",
       "4         1960      5000     1.0           0  ...      7        1050   \n",
       "\n",
       "              14        15            16       17                  18  \\\n",
       "0  sqft_basement  yr_built  yr_renovated  zipcode                 lat   \n",
       "1              0      1955             0    98178             47.5112   \n",
       "2            400      1951          1991    98125  47.721000000000004   \n",
       "3              0      1933             0    98028             47.7379   \n",
       "4            910      1965             0    98136             47.5208   \n",
       "\n",
       "                    19             20          21  \n",
       "0                 long  sqft_living15  sqft_lot15  \n",
       "1             -122.257           1340        5650  \n",
       "2             -122.319           1690        7639  \n",
       "3  -122.23299999999999           2720        8062  \n",
       "4  -122.39299999999999           1360        5000  \n",
       "\n",
       "[5 rows x 22 columns]"
      ]
     },
     "execution_count": 47,
     "metadata": {},
     "output_type": "execute_result"
    }
   ],
   "source": [
    "# Visualizacion de las 5 primeras filas del df.\n",
    "df.head(5)"
   ]
  },
  {
   "cell_type": "code",
   "execution_count": 48,
   "metadata": {},
   "outputs": [
    {
     "data": {
      "text/plain": [
       "0     float64\n",
       "1      object\n",
       "2      object\n",
       "3      object\n",
       "4      object\n",
       "5      object\n",
       "6      object\n",
       "7      object\n",
       "8      object\n",
       "9      object\n",
       "10     object\n",
       "11     object\n",
       "12     object\n",
       "13     object\n",
       "14     object\n",
       "15     object\n",
       "16     object\n",
       "17     object\n",
       "18     object\n",
       "19     object\n",
       "20     object\n",
       "21     object\n",
       "dtype: object"
      ]
     },
     "execution_count": 48,
     "metadata": {},
     "output_type": "execute_result"
    }
   ],
   "source": [
    "df.dtypes"
   ]
  },
  {
   "cell_type": "code",
   "execution_count": 49,
   "metadata": {},
   "outputs": [
    {
     "data": {
      "text/plain": [
       "<bound method NDFrame.describe of             0           1                2         3         4          5   \\\n",
       "0          NaN          id             date     price  bedrooms  bathrooms   \n",
       "1          0.0  7129300520  20141013T000000  221900.0       3.0        1.0   \n",
       "2          1.0  6414100192  20141209T000000  538000.0       3.0       2.25   \n",
       "3          2.0  5631500400  20150225T000000  180000.0       2.0        1.0   \n",
       "4          3.0  2487200875  20141209T000000  604000.0       4.0        3.0   \n",
       "...        ...         ...              ...       ...       ...        ...   \n",
       "21609  21608.0   263000018  20140521T000000  360000.0       3.0        2.5   \n",
       "21610  21609.0  6600060120  20150223T000000  400000.0       4.0        2.5   \n",
       "21611  21610.0  1523300141  20140623T000000  402101.0       2.0       0.75   \n",
       "21612  21611.0   291310100  20150116T000000  400000.0       3.0        2.5   \n",
       "21613  21612.0  1523300157  20141015T000000  325000.0       2.0       0.75   \n",
       "\n",
       "                6         7       8           9   ...     12          13  \\\n",
       "0      sqft_living  sqft_lot  floors  waterfront  ...  grade  sqft_above   \n",
       "1             1180      5650     1.0           0  ...      7        1180   \n",
       "2             2570      7242     2.0           0  ...      7        2170   \n",
       "3              770     10000     1.0           0  ...      6         770   \n",
       "4             1960      5000     1.0           0  ...      7        1050   \n",
       "...            ...       ...     ...         ...  ...    ...         ...   \n",
       "21609         1530      1131     3.0           0  ...      8        1530   \n",
       "21610         2310      5813     2.0           0  ...      8        2310   \n",
       "21611         1020      1350     2.0           0  ...      7        1020   \n",
       "21612         1600      2388     2.0           0  ...      8        1600   \n",
       "21613         1020      1076     2.0           0  ...      7        1020   \n",
       "\n",
       "                  14        15            16       17                  18  \\\n",
       "0      sqft_basement  yr_built  yr_renovated  zipcode                 lat   \n",
       "1                  0      1955             0    98178             47.5112   \n",
       "2                400      1951          1991    98125  47.721000000000004   \n",
       "3                  0      1933             0    98028             47.7379   \n",
       "4                910      1965             0    98136             47.5208   \n",
       "...              ...       ...           ...      ...                 ...   \n",
       "21609              0      2009             0    98103             47.6993   \n",
       "21610              0      2014             0    98146             47.5107   \n",
       "21611              0      2009             0    98144             47.5944   \n",
       "21612              0      2004             0    98027             47.5345   \n",
       "21613              0      2008             0    98144             47.5941   \n",
       "\n",
       "                        19             20          21  \n",
       "0                     long  sqft_living15  sqft_lot15  \n",
       "1                 -122.257           1340        5650  \n",
       "2                 -122.319           1690        7639  \n",
       "3      -122.23299999999999           2720        8062  \n",
       "4      -122.39299999999999           1360        5000  \n",
       "...                    ...            ...         ...  \n",
       "21609             -122.346           1530        1509  \n",
       "21610  -122.36200000000001           1830        7200  \n",
       "21611  -122.29899999999999           1020        2007  \n",
       "21612             -122.069           1410        1287  \n",
       "21613  -122.29899999999999           1020        1357  \n",
       "\n",
       "[21614 rows x 22 columns]>"
      ]
     },
     "execution_count": 49,
     "metadata": {},
     "output_type": "execute_result"
    }
   ],
   "source": [
    "# Funcion para describir en esencia lo analitico de los datos.\n",
    "df.describe"
   ]
  },
  {
   "cell_type": "markdown",
   "metadata": {},
   "source": [
    "# Modulo 2. Preparacion de datos"
   ]
  },
  {
   "cell_type": "code",
   "execution_count": 50,
   "metadata": {},
   "outputs": [],
   "source": [
    "df.drop(df.columns[[0, 1]], axis=1, inplace=True)"
   ]
  },
  {
   "cell_type": "code",
   "execution_count": 51,
   "metadata": {},
   "outputs": [
    {
     "data": {
      "text/plain": [
       "<bound method NDFrame.describe of                     2         3         4          5            6         7   \\\n",
       "0                 date     price  bedrooms  bathrooms  sqft_living  sqft_lot   \n",
       "1      20141013T000000  221900.0       3.0        1.0         1180      5650   \n",
       "2      20141209T000000  538000.0       3.0       2.25         2570      7242   \n",
       "3      20150225T000000  180000.0       2.0        1.0          770     10000   \n",
       "4      20141209T000000  604000.0       4.0        3.0         1960      5000   \n",
       "...                ...       ...       ...        ...          ...       ...   \n",
       "21609  20140521T000000  360000.0       3.0        2.5         1530      1131   \n",
       "21610  20150223T000000  400000.0       4.0        2.5         2310      5813   \n",
       "21611  20140623T000000  402101.0       2.0       0.75         1020      1350   \n",
       "21612  20150116T000000  400000.0       3.0        2.5         1600      2388   \n",
       "21613  20141015T000000  325000.0       2.0       0.75         1020      1076   \n",
       "\n",
       "           8           9     10         11     12          13             14  \\\n",
       "0      floors  waterfront  view  condition  grade  sqft_above  sqft_basement   \n",
       "1         1.0           0     0          3      7        1180              0   \n",
       "2         2.0           0     0          3      7        2170            400   \n",
       "3         1.0           0     0          3      6         770              0   \n",
       "4         1.0           0     0          5      7        1050            910   \n",
       "...       ...         ...   ...        ...    ...         ...            ...   \n",
       "21609     3.0           0     0          3      8        1530              0   \n",
       "21610     2.0           0     0          3      8        2310              0   \n",
       "21611     2.0           0     0          3      7        1020              0   \n",
       "21612     2.0           0     0          3      8        1600              0   \n",
       "21613     2.0           0     0          3      7        1020              0   \n",
       "\n",
       "             15            16       17                  18  \\\n",
       "0      yr_built  yr_renovated  zipcode                 lat   \n",
       "1          1955             0    98178             47.5112   \n",
       "2          1951          1991    98125  47.721000000000004   \n",
       "3          1933             0    98028             47.7379   \n",
       "4          1965             0    98136             47.5208   \n",
       "...         ...           ...      ...                 ...   \n",
       "21609      2009             0    98103             47.6993   \n",
       "21610      2014             0    98146             47.5107   \n",
       "21611      2009             0    98144             47.5944   \n",
       "21612      2004             0    98027             47.5345   \n",
       "21613      2008             0    98144             47.5941   \n",
       "\n",
       "                        19             20          21  \n",
       "0                     long  sqft_living15  sqft_lot15  \n",
       "1                 -122.257           1340        5650  \n",
       "2                 -122.319           1690        7639  \n",
       "3      -122.23299999999999           2720        8062  \n",
       "4      -122.39299999999999           1360        5000  \n",
       "...                    ...            ...         ...  \n",
       "21609             -122.346           1530        1509  \n",
       "21610  -122.36200000000001           1830        7200  \n",
       "21611  -122.29899999999999           1020        2007  \n",
       "21612             -122.069           1410        1287  \n",
       "21613  -122.29899999999999           1020        1357  \n",
       "\n",
       "[21614 rows x 20 columns]>"
      ]
     },
     "execution_count": 51,
     "metadata": {},
     "output_type": "execute_result"
    }
   ],
   "source": [
    "df.describe"
   ]
  },
  {
   "cell_type": "code",
   "execution_count": 52,
   "metadata": {},
   "outputs": [],
   "source": [
    "headers = [\"date\", \"price\", \"bedrooms\", \"bathrooms\", \"sqft_living\", \"sqft_lot\", \"floors\", \"waterfront\", \"view\", \"condition\", \"grade\", \"sqft_above\", \"sqft_basement\", \"yr_built\", \"yr_renovated\", \"zipcode\", \"lat\", \"long\", \"sqft_living15\", \"sqft_lot15\"]\n",
    "df.columns = headers"
   ]
  },
  {
   "cell_type": "code",
   "execution_count": 53,
   "metadata": {},
   "outputs": [],
   "source": [
    "df.drop(index=0, inplace=True)"
   ]
  },
  {
   "cell_type": "code",
   "execution_count": 54,
   "metadata": {},
   "outputs": [
    {
     "data": {
      "text/html": [
       "<div>\n",
       "<style scoped>\n",
       "    .dataframe tbody tr th:only-of-type {\n",
       "        vertical-align: middle;\n",
       "    }\n",
       "\n",
       "    .dataframe tbody tr th {\n",
       "        vertical-align: top;\n",
       "    }\n",
       "\n",
       "    .dataframe thead th {\n",
       "        text-align: right;\n",
       "    }\n",
       "</style>\n",
       "<table border=\"1\" class=\"dataframe\">\n",
       "  <thead>\n",
       "    <tr style=\"text-align: right;\">\n",
       "      <th></th>\n",
       "      <th>date</th>\n",
       "      <th>price</th>\n",
       "      <th>bedrooms</th>\n",
       "      <th>bathrooms</th>\n",
       "      <th>sqft_living</th>\n",
       "      <th>sqft_lot</th>\n",
       "      <th>floors</th>\n",
       "      <th>waterfront</th>\n",
       "      <th>view</th>\n",
       "      <th>condition</th>\n",
       "      <th>grade</th>\n",
       "      <th>sqft_above</th>\n",
       "      <th>sqft_basement</th>\n",
       "      <th>yr_built</th>\n",
       "      <th>yr_renovated</th>\n",
       "      <th>zipcode</th>\n",
       "      <th>lat</th>\n",
       "      <th>long</th>\n",
       "      <th>sqft_living15</th>\n",
       "      <th>sqft_lot15</th>\n",
       "    </tr>\n",
       "  </thead>\n",
       "  <tbody>\n",
       "    <tr>\n",
       "      <th>1</th>\n",
       "      <td>20141013T000000</td>\n",
       "      <td>221900.0</td>\n",
       "      <td>3.0</td>\n",
       "      <td>1.0</td>\n",
       "      <td>1180</td>\n",
       "      <td>5650</td>\n",
       "      <td>1.0</td>\n",
       "      <td>0</td>\n",
       "      <td>0</td>\n",
       "      <td>3</td>\n",
       "      <td>7</td>\n",
       "      <td>1180</td>\n",
       "      <td>0</td>\n",
       "      <td>1955</td>\n",
       "      <td>0</td>\n",
       "      <td>98178</td>\n",
       "      <td>47.5112</td>\n",
       "      <td>-122.257</td>\n",
       "      <td>1340</td>\n",
       "      <td>5650</td>\n",
       "    </tr>\n",
       "    <tr>\n",
       "      <th>2</th>\n",
       "      <td>20141209T000000</td>\n",
       "      <td>538000.0</td>\n",
       "      <td>3.0</td>\n",
       "      <td>2.25</td>\n",
       "      <td>2570</td>\n",
       "      <td>7242</td>\n",
       "      <td>2.0</td>\n",
       "      <td>0</td>\n",
       "      <td>0</td>\n",
       "      <td>3</td>\n",
       "      <td>7</td>\n",
       "      <td>2170</td>\n",
       "      <td>400</td>\n",
       "      <td>1951</td>\n",
       "      <td>1991</td>\n",
       "      <td>98125</td>\n",
       "      <td>47.721000000000004</td>\n",
       "      <td>-122.319</td>\n",
       "      <td>1690</td>\n",
       "      <td>7639</td>\n",
       "    </tr>\n",
       "    <tr>\n",
       "      <th>3</th>\n",
       "      <td>20150225T000000</td>\n",
       "      <td>180000.0</td>\n",
       "      <td>2.0</td>\n",
       "      <td>1.0</td>\n",
       "      <td>770</td>\n",
       "      <td>10000</td>\n",
       "      <td>1.0</td>\n",
       "      <td>0</td>\n",
       "      <td>0</td>\n",
       "      <td>3</td>\n",
       "      <td>6</td>\n",
       "      <td>770</td>\n",
       "      <td>0</td>\n",
       "      <td>1933</td>\n",
       "      <td>0</td>\n",
       "      <td>98028</td>\n",
       "      <td>47.7379</td>\n",
       "      <td>-122.23299999999999</td>\n",
       "      <td>2720</td>\n",
       "      <td>8062</td>\n",
       "    </tr>\n",
       "    <tr>\n",
       "      <th>4</th>\n",
       "      <td>20141209T000000</td>\n",
       "      <td>604000.0</td>\n",
       "      <td>4.0</td>\n",
       "      <td>3.0</td>\n",
       "      <td>1960</td>\n",
       "      <td>5000</td>\n",
       "      <td>1.0</td>\n",
       "      <td>0</td>\n",
       "      <td>0</td>\n",
       "      <td>5</td>\n",
       "      <td>7</td>\n",
       "      <td>1050</td>\n",
       "      <td>910</td>\n",
       "      <td>1965</td>\n",
       "      <td>0</td>\n",
       "      <td>98136</td>\n",
       "      <td>47.5208</td>\n",
       "      <td>-122.39299999999999</td>\n",
       "      <td>1360</td>\n",
       "      <td>5000</td>\n",
       "    </tr>\n",
       "    <tr>\n",
       "      <th>5</th>\n",
       "      <td>20150218T000000</td>\n",
       "      <td>510000.0</td>\n",
       "      <td>3.0</td>\n",
       "      <td>2.0</td>\n",
       "      <td>1680</td>\n",
       "      <td>8080</td>\n",
       "      <td>1.0</td>\n",
       "      <td>0</td>\n",
       "      <td>0</td>\n",
       "      <td>3</td>\n",
       "      <td>8</td>\n",
       "      <td>1680</td>\n",
       "      <td>0</td>\n",
       "      <td>1987</td>\n",
       "      <td>0</td>\n",
       "      <td>98074</td>\n",
       "      <td>47.6168</td>\n",
       "      <td>-122.045</td>\n",
       "      <td>1800</td>\n",
       "      <td>7503</td>\n",
       "    </tr>\n",
       "    <tr>\n",
       "      <th>...</th>\n",
       "      <td>...</td>\n",
       "      <td>...</td>\n",
       "      <td>...</td>\n",
       "      <td>...</td>\n",
       "      <td>...</td>\n",
       "      <td>...</td>\n",
       "      <td>...</td>\n",
       "      <td>...</td>\n",
       "      <td>...</td>\n",
       "      <td>...</td>\n",
       "      <td>...</td>\n",
       "      <td>...</td>\n",
       "      <td>...</td>\n",
       "      <td>...</td>\n",
       "      <td>...</td>\n",
       "      <td>...</td>\n",
       "      <td>...</td>\n",
       "      <td>...</td>\n",
       "      <td>...</td>\n",
       "      <td>...</td>\n",
       "    </tr>\n",
       "    <tr>\n",
       "      <th>21609</th>\n",
       "      <td>20140521T000000</td>\n",
       "      <td>360000.0</td>\n",
       "      <td>3.0</td>\n",
       "      <td>2.5</td>\n",
       "      <td>1530</td>\n",
       "      <td>1131</td>\n",
       "      <td>3.0</td>\n",
       "      <td>0</td>\n",
       "      <td>0</td>\n",
       "      <td>3</td>\n",
       "      <td>8</td>\n",
       "      <td>1530</td>\n",
       "      <td>0</td>\n",
       "      <td>2009</td>\n",
       "      <td>0</td>\n",
       "      <td>98103</td>\n",
       "      <td>47.6993</td>\n",
       "      <td>-122.346</td>\n",
       "      <td>1530</td>\n",
       "      <td>1509</td>\n",
       "    </tr>\n",
       "    <tr>\n",
       "      <th>21610</th>\n",
       "      <td>20150223T000000</td>\n",
       "      <td>400000.0</td>\n",
       "      <td>4.0</td>\n",
       "      <td>2.5</td>\n",
       "      <td>2310</td>\n",
       "      <td>5813</td>\n",
       "      <td>2.0</td>\n",
       "      <td>0</td>\n",
       "      <td>0</td>\n",
       "      <td>3</td>\n",
       "      <td>8</td>\n",
       "      <td>2310</td>\n",
       "      <td>0</td>\n",
       "      <td>2014</td>\n",
       "      <td>0</td>\n",
       "      <td>98146</td>\n",
       "      <td>47.5107</td>\n",
       "      <td>-122.36200000000001</td>\n",
       "      <td>1830</td>\n",
       "      <td>7200</td>\n",
       "    </tr>\n",
       "    <tr>\n",
       "      <th>21611</th>\n",
       "      <td>20140623T000000</td>\n",
       "      <td>402101.0</td>\n",
       "      <td>2.0</td>\n",
       "      <td>0.75</td>\n",
       "      <td>1020</td>\n",
       "      <td>1350</td>\n",
       "      <td>2.0</td>\n",
       "      <td>0</td>\n",
       "      <td>0</td>\n",
       "      <td>3</td>\n",
       "      <td>7</td>\n",
       "      <td>1020</td>\n",
       "      <td>0</td>\n",
       "      <td>2009</td>\n",
       "      <td>0</td>\n",
       "      <td>98144</td>\n",
       "      <td>47.5944</td>\n",
       "      <td>-122.29899999999999</td>\n",
       "      <td>1020</td>\n",
       "      <td>2007</td>\n",
       "    </tr>\n",
       "    <tr>\n",
       "      <th>21612</th>\n",
       "      <td>20150116T000000</td>\n",
       "      <td>400000.0</td>\n",
       "      <td>3.0</td>\n",
       "      <td>2.5</td>\n",
       "      <td>1600</td>\n",
       "      <td>2388</td>\n",
       "      <td>2.0</td>\n",
       "      <td>0</td>\n",
       "      <td>0</td>\n",
       "      <td>3</td>\n",
       "      <td>8</td>\n",
       "      <td>1600</td>\n",
       "      <td>0</td>\n",
       "      <td>2004</td>\n",
       "      <td>0</td>\n",
       "      <td>98027</td>\n",
       "      <td>47.5345</td>\n",
       "      <td>-122.069</td>\n",
       "      <td>1410</td>\n",
       "      <td>1287</td>\n",
       "    </tr>\n",
       "    <tr>\n",
       "      <th>21613</th>\n",
       "      <td>20141015T000000</td>\n",
       "      <td>325000.0</td>\n",
       "      <td>2.0</td>\n",
       "      <td>0.75</td>\n",
       "      <td>1020</td>\n",
       "      <td>1076</td>\n",
       "      <td>2.0</td>\n",
       "      <td>0</td>\n",
       "      <td>0</td>\n",
       "      <td>3</td>\n",
       "      <td>7</td>\n",
       "      <td>1020</td>\n",
       "      <td>0</td>\n",
       "      <td>2008</td>\n",
       "      <td>0</td>\n",
       "      <td>98144</td>\n",
       "      <td>47.5941</td>\n",
       "      <td>-122.29899999999999</td>\n",
       "      <td>1020</td>\n",
       "      <td>1357</td>\n",
       "    </tr>\n",
       "  </tbody>\n",
       "</table>\n",
       "<p>21613 rows × 20 columns</p>\n",
       "</div>"
      ],
      "text/plain": [
       "                  date     price bedrooms bathrooms sqft_living sqft_lot  \\\n",
       "1      20141013T000000  221900.0      3.0       1.0        1180     5650   \n",
       "2      20141209T000000  538000.0      3.0      2.25        2570     7242   \n",
       "3      20150225T000000  180000.0      2.0       1.0         770    10000   \n",
       "4      20141209T000000  604000.0      4.0       3.0        1960     5000   \n",
       "5      20150218T000000  510000.0      3.0       2.0        1680     8080   \n",
       "...                ...       ...      ...       ...         ...      ...   \n",
       "21609  20140521T000000  360000.0      3.0       2.5        1530     1131   \n",
       "21610  20150223T000000  400000.0      4.0       2.5        2310     5813   \n",
       "21611  20140623T000000  402101.0      2.0      0.75        1020     1350   \n",
       "21612  20150116T000000  400000.0      3.0       2.5        1600     2388   \n",
       "21613  20141015T000000  325000.0      2.0      0.75        1020     1076   \n",
       "\n",
       "      floors waterfront view condition grade sqft_above sqft_basement  \\\n",
       "1        1.0          0    0         3     7       1180             0   \n",
       "2        2.0          0    0         3     7       2170           400   \n",
       "3        1.0          0    0         3     6        770             0   \n",
       "4        1.0          0    0         5     7       1050           910   \n",
       "5        1.0          0    0         3     8       1680             0   \n",
       "...      ...        ...  ...       ...   ...        ...           ...   \n",
       "21609    3.0          0    0         3     8       1530             0   \n",
       "21610    2.0          0    0         3     8       2310             0   \n",
       "21611    2.0          0    0         3     7       1020             0   \n",
       "21612    2.0          0    0         3     8       1600             0   \n",
       "21613    2.0          0    0         3     7       1020             0   \n",
       "\n",
       "      yr_built yr_renovated zipcode                 lat                 long  \\\n",
       "1         1955            0   98178             47.5112             -122.257   \n",
       "2         1951         1991   98125  47.721000000000004             -122.319   \n",
       "3         1933            0   98028             47.7379  -122.23299999999999   \n",
       "4         1965            0   98136             47.5208  -122.39299999999999   \n",
       "5         1987            0   98074             47.6168             -122.045   \n",
       "...        ...          ...     ...                 ...                  ...   \n",
       "21609     2009            0   98103             47.6993             -122.346   \n",
       "21610     2014            0   98146             47.5107  -122.36200000000001   \n",
       "21611     2009            0   98144             47.5944  -122.29899999999999   \n",
       "21612     2004            0   98027             47.5345             -122.069   \n",
       "21613     2008            0   98144             47.5941  -122.29899999999999   \n",
       "\n",
       "      sqft_living15 sqft_lot15  \n",
       "1              1340       5650  \n",
       "2              1690       7639  \n",
       "3              2720       8062  \n",
       "4              1360       5000  \n",
       "5              1800       7503  \n",
       "...             ...        ...  \n",
       "21609          1530       1509  \n",
       "21610          1830       7200  \n",
       "21611          1020       2007  \n",
       "21612          1410       1287  \n",
       "21613          1020       1357  \n",
       "\n",
       "[21613 rows x 20 columns]"
      ]
     },
     "execution_count": 54,
     "metadata": {},
     "output_type": "execute_result"
    }
   ],
   "source": [
    "df"
   ]
  },
  {
   "cell_type": "code",
   "execution_count": 55,
   "metadata": {},
   "outputs": [
    {
     "name": "stdout",
     "output_type": "stream",
     "text": [
      "number of NaN values for the column bedrooms : 13\n",
      "number of NaN values for the column bathrooms : 10\n"
     ]
    }
   ],
   "source": [
    "# Valores faltantes para dormitorios y baños\n",
    "print(\"number of NaN values for the column bedrooms :\", df['bedrooms'].isnull().sum())\n",
    "print(\"number of NaN values for the column bathrooms :\", df['bathrooms'].isnull().sum())"
   ]
  },
  {
   "cell_type": "code",
   "execution_count": 56,
   "metadata": {},
   "outputs": [
    {
     "name": "stderr",
     "output_type": "stream",
     "text": [
      "C:\\Users\\Germa\\AppData\\Local\\Temp\\ipykernel_15572\\25038474.py:4: FutureWarning: A value is trying to be set on a copy of a DataFrame or Series through chained assignment using an inplace method.\n",
      "The behavior will change in pandas 3.0. This inplace method will never work because the intermediate object on which we are setting values always behaves as a copy.\n",
      "\n",
      "For example, when doing 'df[col].method(value, inplace=True)', try using 'df.method({col: value}, inplace=True)' or df[col] = df[col].method(value) instead, to perform the operation inplace on the original object.\n",
      "\n",
      "\n",
      "  df['bedrooms'].replace(np.nan,mean, inplace=True)\n"
     ]
    }
   ],
   "source": [
    "# reemplazando los valores faltantes de la columna bedrooms por la media.\n",
    "df['bedrooms'] = pd.to_numeric(df['bedrooms'], errors='coerce')\n",
    "mean=df['bedrooms'].mean()\n",
    "df['bedrooms'].replace(np.nan,mean, inplace=True)"
   ]
  },
  {
   "cell_type": "code",
   "execution_count": 57,
   "metadata": {},
   "outputs": [
    {
     "name": "stderr",
     "output_type": "stream",
     "text": [
      "C:\\Users\\Germa\\AppData\\Local\\Temp\\ipykernel_15572\\1198038852.py:4: FutureWarning: A value is trying to be set on a copy of a DataFrame or Series through chained assignment using an inplace method.\n",
      "The behavior will change in pandas 3.0. This inplace method will never work because the intermediate object on which we are setting values always behaves as a copy.\n",
      "\n",
      "For example, when doing 'df[col].method(value, inplace=True)', try using 'df.method({col: value}, inplace=True)' or df[col] = df[col].method(value) instead, to perform the operation inplace on the original object.\n",
      "\n",
      "\n",
      "  df['bathrooms'].replace(np.nan,mean, inplace=True)\n"
     ]
    }
   ],
   "source": [
    "# Lo mismo que la anterior linea pero para bathrooms\n",
    "df['bathrooms'] = pd.to_numeric(df['bathrooms'], errors='coerce')\n",
    "mean=df['bathrooms'].mean()\n",
    "df['bathrooms'].replace(np.nan,mean, inplace=True)"
   ]
  },
  {
   "cell_type": "code",
   "execution_count": 58,
   "metadata": {},
   "outputs": [
    {
     "name": "stdout",
     "output_type": "stream",
     "text": [
      "number of NaN values for the column bedrooms : 0\n",
      "number of NaN values for the column bathrooms : 0\n"
     ]
    }
   ],
   "source": [
    "# Ya no tenemos valores nulos en estas casillas.\n",
    "print(\"number of NaN values for the column bedrooms :\", df['bedrooms'].isnull().sum())\n",
    "print(\"number of NaN values for the column bathrooms :\", df['bathrooms'].isnull().sum())"
   ]
  },
  {
   "cell_type": "markdown",
   "metadata": {},
   "source": [
    "# MODULO 3. Analisis exploratorio de datos"
   ]
  },
  {
   "cell_type": "code",
   "execution_count": 59,
   "metadata": {},
   "outputs": [
    {
     "data": {
      "text/html": [
       "<div>\n",
       "<style scoped>\n",
       "    .dataframe tbody tr th:only-of-type {\n",
       "        vertical-align: middle;\n",
       "    }\n",
       "\n",
       "    .dataframe tbody tr th {\n",
       "        vertical-align: top;\n",
       "    }\n",
       "\n",
       "    .dataframe thead th {\n",
       "        text-align: right;\n",
       "    }\n",
       "</style>\n",
       "<table border=\"1\" class=\"dataframe\">\n",
       "  <thead>\n",
       "    <tr style=\"text-align: right;\">\n",
       "      <th></th>\n",
       "      <th>count</th>\n",
       "    </tr>\n",
       "    <tr>\n",
       "      <th>floors</th>\n",
       "      <th></th>\n",
       "    </tr>\n",
       "  </thead>\n",
       "  <tbody>\n",
       "    <tr>\n",
       "      <th>1.0</th>\n",
       "      <td>10680</td>\n",
       "    </tr>\n",
       "    <tr>\n",
       "      <th>2.0</th>\n",
       "      <td>8241</td>\n",
       "    </tr>\n",
       "    <tr>\n",
       "      <th>1.5</th>\n",
       "      <td>1910</td>\n",
       "    </tr>\n",
       "    <tr>\n",
       "      <th>3.0</th>\n",
       "      <td>613</td>\n",
       "    </tr>\n",
       "    <tr>\n",
       "      <th>2.5</th>\n",
       "      <td>161</td>\n",
       "    </tr>\n",
       "    <tr>\n",
       "      <th>3.5</th>\n",
       "      <td>8</td>\n",
       "    </tr>\n",
       "  </tbody>\n",
       "</table>\n",
       "</div>"
      ],
      "text/plain": [
       "        count\n",
       "floors       \n",
       "1.0     10680\n",
       "2.0      8241\n",
       "1.5      1910\n",
       "3.0       613\n",
       "2.5       161\n",
       "3.5         8"
      ]
     },
     "execution_count": 59,
     "metadata": {},
     "output_type": "execute_result"
    }
   ],
   "source": [
    "# Cantidad de casas con valor de piso unico\n",
    "floor_counts = df['floors'].value_counts()\n",
    "floor_counts = floor_counts.to_frame(name='count')\n",
    "floor_counts"
   ]
  },
  {
   "cell_type": "code",
   "execution_count": 60,
   "metadata": {},
   "outputs": [
    {
     "data": {
      "text/plain": [
       "<Axes: xlabel='waterfront', ylabel='price'>"
      ]
     },
     "execution_count": 60,
     "metadata": {},
     "output_type": "execute_result"
    },
    {
     "data": {
      "image/png": "[encoded data removed]",
      "text/plain": [
       "<Figure size 640x480 with 1 Axes>"
      ]
     },
     "metadata": {},
     "output_type": "display_data"
    }
   ],
   "source": [
    "# Grafico de caja entre vista al mar y el precio\n",
    "df['price'] = pd.to_numeric(df['price'], errors='coerce')\n",
    "houses_with_waterfront = df[df['waterfront'] == 1]\n",
    "houses_without_waterfront = df[df['waterfront'] == 0]\n",
    "sns.boxplot(x='waterfront', y='price', data=df) "
   ]
  },
  {
   "cell_type": "code",
   "execution_count": 61,
   "metadata": {},
   "outputs": [
    {
     "data": {
      "text/plain": [
       "<Axes: xlabel='sqft_above', ylabel='price'>"
      ]
     },
     "execution_count": 61,
     "metadata": {},
     "output_type": "execute_result"
    },
    {
     "data": {
      "image/png": "[encoded data removed]",
      "text/plain": [
       "<Figure size 640x480 with 1 Axes>"
      ]
     },
     "metadata": {},
     "output_type": "display_data"
    }
   ],
   "source": [
    "# Grafico para determinar la correlacion entre las dos variables.\n",
    "df['sqft_above'] = pd.to_numeric(df['sqft_above'], errors='coerce')\n",
    "df['price'] = pd.to_numeric(df['price'], errors='coerce')\n",
    "sns.regplot(x='sqft_above', y='price', data=df)"
   ]
  },
  {
   "cell_type": "markdown",
   "metadata": {},
   "source": [
    "# Modulo 4. Desarrollo del modelo"
   ]
  },
  {
   "cell_type": "code",
   "execution_count": 62,
   "metadata": {},
   "outputs": [
    {
     "data": {
      "text/plain": [
       "0.00046769430149007363"
      ]
     },
     "execution_count": 62,
     "metadata": {},
     "output_type": "execute_result"
    }
   ],
   "source": [
    "X = df[['long']]\n",
    "Y = df['price']\n",
    "lm = LinearRegression()\n",
    "lm.fit(X,Y)\n",
    "lm.score(X, Y)"
   ]
  },
  {
   "cell_type": "code",
   "execution_count": 63,
   "metadata": {},
   "outputs": [
    {
     "data": {
      "text/plain": [
       "0.4928532179037931"
      ]
     },
     "execution_count": 63,
     "metadata": {},
     "output_type": "execute_result"
    }
   ],
   "source": [
    "# Modelo de regrecion lineal con sqft_living y price\n",
    "X = df[['sqft_living']]\n",
    "Y = df['price']\n",
    "lm = LinearRegression()\n",
    "lm.fit(X,Y)\n",
    "lm.score(X, Y)"
   ]
  },
  {
   "cell_type": "code",
   "execution_count": 64,
   "metadata": {},
   "outputs": [
    {
     "data": {
      "text/plain": [
       "0.65769516660375"
      ]
     },
     "execution_count": 64,
     "metadata": {},
     "output_type": "execute_result"
    }
   ],
   "source": [
    "# Modelo de regrecion utilizando varias caracteristicas.\n",
    "Z = df[[\"floors\", \"waterfront\",\"lat\" ,\"bedrooms\" ,\"sqft_basement\" ,\"view\" ,\"bathrooms\",\"sqft_living15\",\"sqft_above\",\"grade\",\"sqft_living\"]]\n",
    "lm.fit(Z,Y)\n",
    "lm.score(Z, Y)"
   ]
  },
  {
   "cell_type": "code",
   "execution_count": 65,
   "metadata": {},
   "outputs": [
    {
     "data": {
      "text/plain": [
       "0.7513408515988734"
      ]
     },
     "execution_count": 65,
     "metadata": {},
     "output_type": "execute_result"
    }
   ],
   "source": [
    "# Objeto de tipo Pipeline con las caracteristicas y variables conocidas.\n",
    "Input=[('scale',StandardScaler()), ('polynomial', PolynomialFeatures(include_bias=False)), ('model', LinearRegression())]\n",
    "pipe=Pipeline(Input)\n",
    "Z = Z.astype(float)\n",
    "pipe.fit(Z,Y)\n",
    "ypipe=pipe.predict(Z)\n",
    "r2_score(Y,ypipe)"
   ]
  },
  {
   "cell_type": "markdown",
   "metadata": {},
   "source": [
    "# Modulo 5. Refinamiento del modelo"
   ]
  },
  {
   "cell_type": "code",
   "execution_count": 68,
   "metadata": {},
   "outputs": [
    {
     "name": "stdout",
     "output_type": "stream",
     "text": [
      "number of test samples: 3242\n",
      "number of training samples: 18371\n"
     ]
    }
   ],
   "source": [
    "x_train, x_test, y_train, y_test = train_test_split(Z, Y, test_size=0.15, random_state=1)\n",
    "\n",
    "\n",
    "print(\"number of test samples:\", x_test.shape[0])\n",
    "print(\"number of training samples:\",x_train.shape[0])"
   ]
  },
  {
   "cell_type": "code",
   "execution_count": 69,
   "metadata": {},
   "outputs": [
    {
     "data": {
      "text/plain": [
       "0.6478759163939114"
      ]
     },
     "execution_count": 69,
     "metadata": {},
     "output_type": "execute_result"
    }
   ],
   "source": [
    "#  Modelo de regrecion Ridge\n",
    "RidgeModel=Ridge(alpha=0.1)\n",
    "RidgeModel.fit(x_train, y_train)\n",
    "yhat = RidgeModel.predict(x_test)\n",
    "r2_score(y_test,yhat)"
   ]
  },
  {
   "cell_type": "code",
   "execution_count": 71,
   "metadata": {},
   "outputs": [
    {
     "data": {
      "text/plain": [
       "0.7002744278414128"
      ]
     },
     "execution_count": 71,
     "metadata": {},
     "output_type": "execute_result"
    }
   ],
   "source": [
    "# Transformacion polinomica para los datos.\n",
    "pr = PolynomialFeatures(degree=2)\n",
    "x_train_pr = pr.fit_transform(x_train)\n",
    "x_test_pr = pr.fit_transform(x_test)\n",
    "RidgeModel.fit(x_train_pr, y_train)\n",
    "y_hat = RidgeModel.predict(x_test_pr)\n",
    "r2_score(y_test,y_hat)"
   ]
  }
 ],
 "metadata": {
  "kernelspec": {
   "display_name": "Python 3",
   "language": "python",
   "name": "python3"
  },
  "language_info": {
   "codemirror_mode": {
    "name": "ipython",
    "version": 3
   },
   "file_extension": ".py",
   "mimetype": "text/x-python",
   "name": "python",
   "nbconvert_exporter": "python",
   "pygments_lexer": "ipython3",
   "version": "3.12.6"
  }
 },
 "nbformat": 4,
 "nbformat_minor": 2
}
